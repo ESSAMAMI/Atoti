{
 "cells": [
  {
   "cell_type": "code",
   "execution_count": 1,
   "id": "53fa8606-f6b3-456c-962b-0070b45a5b91",
   "metadata": {},
   "outputs": [
    {
     "name": "stdout",
     "output_type": "stream",
     "text": [
      "Welcome to Atoti 0.9.1!\n",
      "\n",
      "By using this community edition, you agree with the license available at https://docs.atoti.io/latest/eula.html.\n",
      "Browse the official documentation at https://docs.atoti.io.\n",
      "Join the community at https://www.atoti.io/register.\n",
      "\n",
      "Atoti collects telemetry data, which is used to help understand how to improve the product.\n",
      "If you don't wish to send usage data, you can request a trial license at https://www.atoti.io/evaluation-license-request.\n",
      "\n",
      "You can hide this message by setting the `ATOTI_HIDE_EULA_MESSAGE` environment variable to True.\n"
     ]
    }
   ],
   "source": [
    "import atoti as tt\n",
    "import pandas as pd\n",
    "import os\n",
    "import numpy as np\n",
    "from glob import glob"
   ]
  },
  {
   "cell_type": "code",
   "execution_count": 2,
   "id": "ebd76ed2-6887-48af-a60e-7b562766352b",
   "metadata": {},
   "outputs": [],
   "source": [
    "session = tt.Session.start()"
   ]
  },
  {
   "cell_type": "code",
   "execution_count": 3,
   "id": "4ea312ac-2bae-4300-be90-26baaada6496",
   "metadata": {},
   "outputs": [],
   "source": [
    "path = '../project/DataSet/conso-elec-gaz-annuelle-par-naf-agregee-region.csv'"
   ]
  },
  {
   "cell_type": "code",
   "execution_count": 4,
   "id": "415502f3-f23d-4775-80f0-11b0f733d534",
   "metadata": {},
   "outputs": [
    {
     "name": "stderr",
     "output_type": "stream",
     "text": [
      "57 error(s) occurred while feeding the table Conso_elec_gaz. Check the session's logs for more details.\n"
     ]
    }
   ],
   "source": [
    "conso_elec_gaz = session.read_csv(path, table_name=\"Conso_elec_gaz\", encoding=\"utf-8\")"
   ]
  },
  {
   "cell_type": "code",
   "execution_count": 5,
   "id": "1522d4ae-4ea8-47e2-b246-e57b3ce0d4d4",
   "metadata": {},
   "outputs": [],
   "source": [
    "cube = session.create_cube(conso_elec_gaz)"
   ]
  },
  {
   "cell_type": "code",
   "execution_count": null,
   "id": "792df879-58c5-4702-9dcf-85911f1900a6",
   "metadata": {},
   "outputs": [],
   "source": [
    "levels = cube.levels\n",
    "hierarchies = cube.hierarchies\n",
    "measures = cube.measures\n"
   ]
  }
 ],
 "metadata": {
  "kernelspec": {
   "display_name": "Python 3 (ipykernel)",
   "language": "python",
   "name": "python3"
  },
  "language_info": {
   "codemirror_mode": {
    "name": "ipython",
    "version": 3
   },
   "file_extension": ".py",
   "mimetype": "text/x-python",
   "name": "python",
   "nbconvert_exporter": "python",
   "pygments_lexer": "ipython3",
   "version": "3.12.1"
  }
 },
 "nbformat": 4,
 "nbformat_minor": 5
}
