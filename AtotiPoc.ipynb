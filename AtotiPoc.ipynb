{
 "cells": [
  {
   "cell_type": "code",
   "execution_count": null,
   "id": "e7c6ae40-8ff1-4310-9a59-1a4f1a839e93",
   "metadata": {},
   "outputs": [],
   "source": [
    "import atoti as tt\n",
    "import pandas as pd\n",
    "import os\n",
    "import numpy as np\n",
    "from glob import glob\n",
    "import pathlib\n",
    "\n",
    "# Définir la configuration de la session\n",
    "config = tt.SessionConfig(user_content_storage=\"./atoti_content\")\n",
    "\n",
    "session = tt.Session.start(config)\n",
    "path = 'conso-elec-gaz-annuelle-par-naf-agregee-region.csv'\n",
    "conso_elec_gaz = session.read_csv(path, table_name=\"Conso_elec_gaz\", encoding=\"utf-8\")\n",
    "cube = session.create_cube(conso_elec_gaz)\n",
    "levels = cube.levels\n",
    "hierarchies = cube.hierarchies\n",
    "measures = cube.measures\n",
    "# Ouvrir atoti sur navigateur\n",
    "session.link"
   ]
  },
  {
   "cell_type": "code",
   "execution_count": 1,
   "id": "53fa8606-f6b3-456c-962b-0070b45a5b91",
   "metadata": {},
   "outputs": [
    {
     "name": "stdout",
     "output_type": "stream",
     "text": [
      "Welcome to Atoti 0.9.1!\n",
      "\n",
      "By using this community edition, you agree with the license available at https://docs.atoti.io/latest/eula.html.\n",
      "Browse the official documentation at https://docs.atoti.io.\n",
      "Join the community at https://www.atoti.io/register.\n",
      "\n",
      "Atoti collects telemetry data, which is used to help understand how to improve the product.\n",
      "If you don't wish to send usage data, you can request a trial license at https://www.atoti.io/evaluation-license-request.\n",
      "\n",
      "You can hide this message by setting the `ATOTI_HIDE_EULA_MESSAGE` environment variable to True.\n"
     ]
    }
   ],
   "source": [
    "import atoti as tt\n",
    "import pandas as pd\n",
    "import os\n",
    "import numpy as np\n",
    "from glob import glob\n",
    "import pathlib"
   ]
  },
  {
   "cell_type": "code",
   "execution_count": 2,
   "id": "f451afaa-c699-4d58-9be5-c8ffbb663600",
   "metadata": {},
   "outputs": [],
   "source": [
    "# Définir la configuration de la session\n",
    "config = tt.SessionConfig(user_content_storage=\"./atoti_content\")"
   ]
  },
  {
   "cell_type": "code",
   "execution_count": 3,
   "id": "ebd76ed2-6887-48af-a60e-7b562766352b",
   "metadata": {},
   "outputs": [],
   "source": [
    "session = tt.Session.start(config)"
   ]
  },
  {
   "cell_type": "code",
   "execution_count": 4,
   "id": "4ea312ac-2bae-4300-be90-26baaada6496",
   "metadata": {},
   "outputs": [],
   "source": [
    "path = 'conso-elec-gaz-annuelle-par-naf-agregee-region.csv'"
   ]
  },
  {
   "cell_type": "code",
   "execution_count": 6,
   "id": "415502f3-f23d-4775-80f0-11b0f733d534",
   "metadata": {},
   "outputs": [
    {
     "name": "stderr",
     "output_type": "stream",
     "text": [
      "57 error(s) occurred while feeding the table Conso_elec_gaz. Check the session's logs for more details.\n"
     ]
    }
   ],
   "source": [
    "conso_elec_gaz = session.read_csv(path, table_name=\"Conso_elec_gaz\", encoding=\"utf-8\")"
   ]
  },
  {
   "cell_type": "code",
   "execution_count": 7,
   "id": "1522d4ae-4ea8-47e2-b246-e57b3ce0d4d4",
   "metadata": {},
   "outputs": [],
   "source": [
    "cube = session.create_cube(conso_elec_gaz)"
   ]
  },
  {
   "cell_type": "code",
   "execution_count": 11,
   "id": "792df879-58c5-4702-9dcf-85911f1900a6",
   "metadata": {},
   "outputs": [],
   "source": [
    "levels = cube.levels\n",
    "hierarchies = cube.hierarchies\n",
    "measures = cube.measures"
   ]
  },
  {
   "cell_type": "code",
   "execution_count": 12,
   "id": "180c0b9d-0482-423f-bfb8-96f9f2443cb1",
   "metadata": {},
   "outputs": [
    {
     "data": {
      "application/vnd.atoti.link.v0+json": {
       "path": "",
       "sessionUrl": "http://localhost:54414"
      },
      "text/plain": [
       "http://localhost:54414"
      ]
     },
     "execution_count": 12,
     "metadata": {},
     "output_type": "execute_result"
    }
   ],
   "source": [
    "session.link"
   ]
  },
  {
   "cell_type": "code",
   "execution_count": null,
   "id": "ee753d39-548e-4c79-9c47-5097085eec83",
   "metadata": {},
   "outputs": [],
   "source": []
  }
 ],
 "metadata": {
  "kernelspec": {
   "display_name": "Python 3 (ipykernel)",
   "language": "python",
   "name": "python3"
  },
  "language_info": {
   "codemirror_mode": {
    "name": "ipython",
    "version": 3
   },
   "file_extension": ".py",
   "mimetype": "text/x-python",
   "name": "python",
   "nbconvert_exporter": "python",
   "pygments_lexer": "ipython3",
   "version": "3.12.1"
  }
 },
 "nbformat": 4,
 "nbformat_minor": 5
}
